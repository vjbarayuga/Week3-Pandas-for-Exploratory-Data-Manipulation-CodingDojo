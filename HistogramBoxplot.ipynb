{
  "nbformat": 4,
  "nbformat_minor": 0,
  "metadata": {
    "colab": {
      "name": "HistogramBoxplot.ipynb",
      "provenance": [],
      "collapsed_sections": [],
      "authorship_tag": "ABX9TyOFBefgC/e2bCI8lQv3uwtk",
      "include_colab_link": true
    },
    "kernelspec": {
      "name": "python3",
      "display_name": "Python 3"
    },
    "language_info": {
      "name": "python"
    }
  },
  "cells": [
    {
      "cell_type": "markdown",
      "metadata": {
        "id": "view-in-github",
        "colab_type": "text"
      },
      "source": [
        "<a href=\"https://colab.research.google.com/github/vjbarayuga/Week3-Pandas-for-Exploratory-Data-Manipulation-CodingDojo/blob/main/HistogramBoxplot.ipynb\" target=\"_parent\"><img src=\"https://colab.research.google.com/assets/colab-badge.svg\" alt=\"Open In Colab\"/></a>"
      ]
    },
    {
      "cell_type": "code",
      "metadata": {
        "colab": {
          "base_uri": "https://localhost:8080/"
        },
        "id": "jSTxBP8vZuFX",
        "outputId": "f07accdb-296a-443a-d0ed-90b945b7a22c"
      },
      "source": [
        "# mount data\n",
        "from google.colab import drive\n",
        "drive.mount('/content/drive')"
      ],
      "execution_count": 2,
      "outputs": [
        {
          "output_type": "stream",
          "name": "stdout",
          "text": [
            "Drive already mounted at /content/drive; to attempt to forcibly remount, call drive.mount(\"/content/drive\", force_remount=True).\n"
          ]
        }
      ]
    },
    {
      "cell_type": "code",
      "metadata": {
        "id": "1m379-wyEjYA"
      },
      "source": [
        "import matplotlib.pyplot as plt\n",
        "import pandas as pd\n",
        "import seaborn as sns"
      ],
      "execution_count": 3,
      "outputs": []
    },
    {
      "cell_type": "code",
      "metadata": {
        "id": "LZa10YTTEkvm",
        "colab": {
          "base_uri": "https://localhost:8080/",
          "height": 745
        },
        "outputId": "0e7037eb-1012-4c15-88ff-89d8f3809c4a"
      },
      "source": [
        "df = pd.read_excel('/content/drive/MyDrive/Coding_DOJO-Data_Science_Bootcamp/02_Part_Time_Data_Science/2_Pandas_for_Data_Manipulation/Dataset/catsvdogs.xlsx')\n",
        "df.head(20)"
      ],
      "execution_count": 11,
      "outputs": [
        {
          "output_type": "execute_result",
          "data": {
            "text/html": [
              "<div>\n",
              "<style scoped>\n",
              "    .dataframe tbody tr th:only-of-type {\n",
              "        vertical-align: middle;\n",
              "    }\n",
              "\n",
              "    .dataframe tbody tr th {\n",
              "        vertical-align: top;\n",
              "    }\n",
              "\n",
              "    .dataframe thead th {\n",
              "        text-align: right;\n",
              "    }\n",
              "</style>\n",
              "<table border=\"1\" class=\"dataframe\">\n",
              "  <thead>\n",
              "    <tr style=\"text-align: right;\">\n",
              "      <th></th>\n",
              "      <th>Location</th>\n",
              "      <th>Number of Households (in 1000)</th>\n",
              "      <th>Percentage of households with pets</th>\n",
              "      <th>Number of Pet Households (in 1000)</th>\n",
              "      <th>Percentage of Dog Owners</th>\n",
              "      <th>Dog Owning Households (1000s)</th>\n",
              "      <th>Mean Number of Dogs per household</th>\n",
              "      <th>Dog Population (in 1000)</th>\n",
              "      <th>Percentage of Cat Owners</th>\n",
              "      <th>Cat Owning Households</th>\n",
              "      <th>Mean Number of Cats</th>\n",
              "      <th>Cat Population</th>\n",
              "    </tr>\n",
              "  </thead>\n",
              "  <tbody>\n",
              "    <tr>\n",
              "      <th>0</th>\n",
              "      <td>Alabama</td>\n",
              "      <td>1828</td>\n",
              "      <td>59.5</td>\n",
              "      <td>1088</td>\n",
              "      <td>44.1</td>\n",
              "      <td>807</td>\n",
              "      <td>1.7</td>\n",
              "      <td>1410</td>\n",
              "      <td>27.4</td>\n",
              "      <td>501</td>\n",
              "      <td>2.5</td>\n",
              "      <td>1252</td>\n",
              "    </tr>\n",
              "    <tr>\n",
              "      <th>1</th>\n",
              "      <td>Arizona</td>\n",
              "      <td>2515</td>\n",
              "      <td>59.5</td>\n",
              "      <td>1497</td>\n",
              "      <td>40.1</td>\n",
              "      <td>1008</td>\n",
              "      <td>1.8</td>\n",
              "      <td>1798</td>\n",
              "      <td>29.6</td>\n",
              "      <td>743</td>\n",
              "      <td>1.9</td>\n",
              "      <td>1438</td>\n",
              "    </tr>\n",
              "    <tr>\n",
              "      <th>2</th>\n",
              "      <td>Arkansas</td>\n",
              "      <td>1148</td>\n",
              "      <td>62.4</td>\n",
              "      <td>716</td>\n",
              "      <td>47.9</td>\n",
              "      <td>550</td>\n",
              "      <td>2.0</td>\n",
              "      <td>1097</td>\n",
              "      <td>30.6</td>\n",
              "      <td>351</td>\n",
              "      <td>2.3</td>\n",
              "      <td>810</td>\n",
              "    </tr>\n",
              "    <tr>\n",
              "      <th>3</th>\n",
              "      <td>California</td>\n",
              "      <td>12974</td>\n",
              "      <td>52.9</td>\n",
              "      <td>6865</td>\n",
              "      <td>32.8</td>\n",
              "      <td>4260</td>\n",
              "      <td>1.6</td>\n",
              "      <td>6687</td>\n",
              "      <td>28.3</td>\n",
              "      <td>3687</td>\n",
              "      <td>1.9</td>\n",
              "      <td>7118</td>\n",
              "    </tr>\n",
              "    <tr>\n",
              "      <th>4</th>\n",
              "      <td>Colorado</td>\n",
              "      <td>1986</td>\n",
              "      <td>61.3</td>\n",
              "      <td>1217</td>\n",
              "      <td>42.5</td>\n",
              "      <td>845</td>\n",
              "      <td>1.6</td>\n",
              "      <td>1349</td>\n",
              "      <td>32.3</td>\n",
              "      <td>642</td>\n",
              "      <td>1.9</td>\n",
              "      <td>1191</td>\n",
              "    </tr>\n",
              "    <tr>\n",
              "      <th>5</th>\n",
              "      <td>Connecticut</td>\n",
              "      <td>1337</td>\n",
              "      <td>54.4</td>\n",
              "      <td>728</td>\n",
              "      <td>28.3</td>\n",
              "      <td>379</td>\n",
              "      <td>1.3</td>\n",
              "      <td>507</td>\n",
              "      <td>31.9</td>\n",
              "      <td>427</td>\n",
              "      <td>1.9</td>\n",
              "      <td>796</td>\n",
              "    </tr>\n",
              "    <tr>\n",
              "      <th>6</th>\n",
              "      <td>Delaware</td>\n",
              "      <td>334</td>\n",
              "      <td>56.6</td>\n",
              "      <td>189</td>\n",
              "      <td>33.7</td>\n",
              "      <td>113</td>\n",
              "      <td>1.4</td>\n",
              "      <td>163</td>\n",
              "      <td>33.7</td>\n",
              "      <td>113</td>\n",
              "      <td>1.7</td>\n",
              "      <td>187</td>\n",
              "    </tr>\n",
              "    <tr>\n",
              "      <th>7</th>\n",
              "      <td>District of Columbia</td>\n",
              "      <td>287</td>\n",
              "      <td>21.9</td>\n",
              "      <td>63</td>\n",
              "      <td>13.1</td>\n",
              "      <td>38</td>\n",
              "      <td>1.1</td>\n",
              "      <td>42</td>\n",
              "      <td>11.6</td>\n",
              "      <td>33</td>\n",
              "      <td>1.9</td>\n",
              "      <td>63</td>\n",
              "    </tr>\n",
              "    <tr>\n",
              "      <th>8</th>\n",
              "      <td>Florida</td>\n",
              "      <td>7609</td>\n",
              "      <td>54.4</td>\n",
              "      <td>4138</td>\n",
              "      <td>35.7</td>\n",
              "      <td>2718</td>\n",
              "      <td>1.5</td>\n",
              "      <td>4210</td>\n",
              "      <td>27.3</td>\n",
              "      <td>2079</td>\n",
              "      <td>2.1</td>\n",
              "      <td>4375</td>\n",
              "    </tr>\n",
              "    <tr>\n",
              "      <th>9</th>\n",
              "      <td>Georgia</td>\n",
              "      <td>3798</td>\n",
              "      <td>55.1</td>\n",
              "      <td>2093</td>\n",
              "      <td>40.1</td>\n",
              "      <td>1522</td>\n",
              "      <td>1.6</td>\n",
              "      <td>2479</td>\n",
              "      <td>27.3</td>\n",
              "      <td>1037</td>\n",
              "      <td>2.1</td>\n",
              "      <td>2162</td>\n",
              "    </tr>\n",
              "    <tr>\n",
              "      <th>10</th>\n",
              "      <td>Idaho</td>\n",
              "      <td>568</td>\n",
              "      <td>62.0</td>\n",
              "      <td>352</td>\n",
              "      <td>42.7</td>\n",
              "      <td>242</td>\n",
              "      <td>1.5</td>\n",
              "      <td>357</td>\n",
              "      <td>34.6</td>\n",
              "      <td>196</td>\n",
              "      <td>2.0</td>\n",
              "      <td>393</td>\n",
              "    </tr>\n",
              "    <tr>\n",
              "      <th>11</th>\n",
              "      <td>Illinois</td>\n",
              "      <td>5026</td>\n",
              "      <td>51.8</td>\n",
              "      <td>2602</td>\n",
              "      <td>32.4</td>\n",
              "      <td>1627</td>\n",
              "      <td>1.5</td>\n",
              "      <td>2365</td>\n",
              "      <td>26.3</td>\n",
              "      <td>1321</td>\n",
              "      <td>1.9</td>\n",
              "      <td>2453</td>\n",
              "    </tr>\n",
              "    <tr>\n",
              "      <th>12</th>\n",
              "      <td>Indiana</td>\n",
              "      <td>2478</td>\n",
              "      <td>59.9</td>\n",
              "      <td>1484</td>\n",
              "      <td>39.9</td>\n",
              "      <td>989</td>\n",
              "      <td>1.6</td>\n",
              "      <td>1619</td>\n",
              "      <td>34.4</td>\n",
              "      <td>852</td>\n",
              "      <td>2.2</td>\n",
              "      <td>1912</td>\n",
              "    </tr>\n",
              "    <tr>\n",
              "      <th>13</th>\n",
              "      <td>Iowa</td>\n",
              "      <td>1219</td>\n",
              "      <td>53.6</td>\n",
              "      <td>654</td>\n",
              "      <td>33.4</td>\n",
              "      <td>407</td>\n",
              "      <td>1.5</td>\n",
              "      <td>610</td>\n",
              "      <td>30.3</td>\n",
              "      <td>370</td>\n",
              "      <td>2.2</td>\n",
              "      <td>805</td>\n",
              "    </tr>\n",
              "    <tr>\n",
              "      <th>14</th>\n",
              "      <td>Kansas</td>\n",
              "      <td>1133</td>\n",
              "      <td>61.0</td>\n",
              "      <td>691</td>\n",
              "      <td>42.3</td>\n",
              "      <td>480</td>\n",
              "      <td>1.6</td>\n",
              "      <td>774</td>\n",
              "      <td>33.3</td>\n",
              "      <td>378</td>\n",
              "      <td>1.9</td>\n",
              "      <td>731</td>\n",
              "    </tr>\n",
              "    <tr>\n",
              "      <th>15</th>\n",
              "      <td>Kentucky</td>\n",
              "      <td>1777</td>\n",
              "      <td>61.6</td>\n",
              "      <td>1094</td>\n",
              "      <td>45.9</td>\n",
              "      <td>816</td>\n",
              "      <td>1.9</td>\n",
              "      <td>1531</td>\n",
              "      <td>36.8</td>\n",
              "      <td>654</td>\n",
              "      <td>2.1</td>\n",
              "      <td>1349</td>\n",
              "    </tr>\n",
              "    <tr>\n",
              "      <th>16</th>\n",
              "      <td>Louisiana</td>\n",
              "      <td>1702</td>\n",
              "      <td>55.1</td>\n",
              "      <td>937</td>\n",
              "      <td>36.4</td>\n",
              "      <td>619</td>\n",
              "      <td>1.8</td>\n",
              "      <td>1115</td>\n",
              "      <td>25.9</td>\n",
              "      <td>441</td>\n",
              "      <td>2.0</td>\n",
              "      <td>877</td>\n",
              "    </tr>\n",
              "    <tr>\n",
              "      <th>17</th>\n",
              "      <td>Maine</td>\n",
              "      <td>548</td>\n",
              "      <td>62.9</td>\n",
              "      <td>345</td>\n",
              "      <td>34.6</td>\n",
              "      <td>190</td>\n",
              "      <td>1.6</td>\n",
              "      <td>300</td>\n",
              "      <td>46.4</td>\n",
              "      <td>254</td>\n",
              "      <td>1.9</td>\n",
              "      <td>498</td>\n",
              "    </tr>\n",
              "    <tr>\n",
              "      <th>18</th>\n",
              "      <td>Maryland</td>\n",
              "      <td>2169</td>\n",
              "      <td>52.3</td>\n",
              "      <td>1134</td>\n",
              "      <td>30.8</td>\n",
              "      <td>667</td>\n",
              "      <td>1.4</td>\n",
              "      <td>915</td>\n",
              "      <td>29.8</td>\n",
              "      <td>645</td>\n",
              "      <td>2.6</td>\n",
              "      <td>1677</td>\n",
              "    </tr>\n",
              "    <tr>\n",
              "      <th>19</th>\n",
              "      <td>Massachusetts</td>\n",
              "      <td>2618</td>\n",
              "      <td>50.4</td>\n",
              "      <td>1318</td>\n",
              "      <td>23.6</td>\n",
              "      <td>618</td>\n",
              "      <td>1.4</td>\n",
              "      <td>850</td>\n",
              "      <td>34.1</td>\n",
              "      <td>892</td>\n",
              "      <td>1.8</td>\n",
              "      <td>1593</td>\n",
              "    </tr>\n",
              "  </tbody>\n",
              "</table>\n",
              "</div>"
            ],
            "text/plain": [
              "                Location  ...  Cat Population\n",
              "0                Alabama  ...            1252\n",
              "1                Arizona  ...            1438\n",
              "2               Arkansas  ...             810\n",
              "3             California  ...            7118\n",
              "4               Colorado  ...            1191\n",
              "5            Connecticut  ...             796\n",
              "6               Delaware  ...             187\n",
              "7   District of Columbia  ...              63\n",
              "8                Florida  ...            4375\n",
              "9                Georgia  ...            2162\n",
              "10                 Idaho  ...             393\n",
              "11              Illinois  ...            2453\n",
              "12               Indiana  ...            1912\n",
              "13                  Iowa  ...             805\n",
              "14                Kansas  ...             731\n",
              "15              Kentucky  ...            1349\n",
              "16             Louisiana  ...             877\n",
              "17                 Maine  ...             498\n",
              "18              Maryland  ...            1677\n",
              "19         Massachusetts  ...            1593\n",
              "\n",
              "[20 rows x 12 columns]"
            ]
          },
          "metadata": {},
          "execution_count": 11
        }
      ]
    },
    {
      "cell_type": "markdown",
      "metadata": {
        "id": "mFSF_z2_ToT_"
      },
      "source": [
        "1. Percentage of Dog Owners"
      ]
    },
    {
      "cell_type": "code",
      "metadata": {
        "colab": {
          "base_uri": "https://localhost:8080/",
          "height": 347
        },
        "id": "5iNnd_flTs7_",
        "outputId": "0c81a1a6-c6e6-4925-bf3f-0f9ae0780ed4"
      },
      "source": [
        "plt.style.use('seaborn')\n",
        "df['Percentage of Dog Owners'].hist();"
      ],
      "execution_count": 5,
      "outputs": [
        {
          "output_type": "display_data",
          "data": {
            "image/png": "[encoded data removed]",
            "text/plain": [
              "<Figure size 576x396 with 1 Axes>"
            ]
          },
          "metadata": {}
        }
      ]
    },
    {
      "cell_type": "markdown",
      "metadata": {
        "id": "S0dFHjeKU7hY"
      },
      "source": [
        "2. Plot a histogram of the Percentage of Cat Owners."
      ]
    },
    {
      "cell_type": "code",
      "metadata": {
        "colab": {
          "base_uri": "https://localhost:8080/",
          "height": 364
        },
        "id": "6mjfY-9EU83g",
        "outputId": "5d5b38bc-103c-4487-d657-114fe29a930b"
      },
      "source": [
        "plt.style.use('seaborn')\n",
        "df['Percentage of Cat Owners'].hist()"
      ],
      "execution_count": 6,
      "outputs": [
        {
          "output_type": "execute_result",
          "data": {
            "text/plain": [
              "<matplotlib.axes._subplots.AxesSubplot at 0x7f2fef313750>"
            ]
          },
          "metadata": {},
          "execution_count": 6
        },
        {
          "output_type": "display_data",
          "data": {
            "image/png": "[encoded data removed]",
            "text/plain": [
              "<Figure size 576x396 with 1 Axes>"
            ]
          },
          "metadata": {}
        }
      ]
    },
    {
      "cell_type": "markdown",
      "metadata": {
        "id": "FBZvsg-3VM6f"
      },
      "source": [
        "3a. **What can we see by comparing these two histograms?**\n",
        "\n",
        "There is a higher percentages of dog owners than cat owners.\n",
        "\n"
      ]
    },
    {
      "cell_type": "markdown",
      "metadata": {
        "id": "oKeNaDV6W7xP"
      },
      "source": [
        "3b. Optional/Bonus: plot these two histograms on the same plot:"
      ]
    },
    {
      "cell_type": "code",
      "metadata": {
        "colab": {
          "base_uri": "https://localhost:8080/",
          "height": 361
        },
        "id": "iuGzaeq0W903",
        "outputId": "e6052c62-1e02-4d5a-e1bd-4a703553aa2d"
      },
      "source": [
        "sns.histplot(df['Percentage of Dog Owners'], label = 'Dogs')\n",
        "sns.histplot(df['Percentage of Cat Owners'], color='orange', label = 'Cats')\n",
        "plt.xlabel('Percentage of Animal Owners')\n",
        "plt.legend();"
      ],
      "execution_count": 7,
      "outputs": [
        {
          "output_type": "display_data",
          "data": {
            "image/png": "[encoded data removed]",
            "text/plain": [
              "<Figure size 576x396 with 1 Axes>"
            ]
          },
          "metadata": {}
        }
      ]
    },
    {
      "cell_type": "markdown",
      "metadata": {
        "id": "h6IPyEpZXFH3"
      },
      "source": [
        "4. Plot two boxplots on the same plot: one of the mean number of cats per household and the other of the mean number of dogs."
      ]
    },
    {
      "cell_type": "code",
      "metadata": {
        "colab": {
          "base_uri": "https://localhost:8080/",
          "height": 362
        },
        "id": "ZtZueWSEXIA2",
        "outputId": "abfb736d-2797-4e23-d0e5-a06cd5d15415"
      },
      "source": [
        "plt.figure(figsize = (12, 5))\n",
        "fig, axes = plt.subplots(nrows = 1, ncols = 1, figsize = (8,5))\n",
        "boxplots = axes.boxplot([df['Mean Number of Cats'],df['Mean Number of Dogs per household']],\n",
        "           notch = True,\n",
        "           labels=['Cats', 'Dogs'],\n",
        "           widths = .7,\n",
        "           patch_artist=True,\n",
        "           medianprops = dict(linestyle='-', linewidth=2, color='Yellow'),\n",
        "           boxprops = dict(linestyle='--', linewidth=2, color='Black', facecolor = 'blue', alpha = .4)\n",
        "          );\n",
        "boxplot1 = boxplots['boxes'][0]\n",
        "boxplot1.set_facecolor('orange')\n",
        "plt.ylabel('Mean Number of Animals per State', fontsize = 20);\n",
        "plt.xticks(fontsize = 16);\n",
        "plt.yticks(fontsize = 16);"
      ],
      "execution_count": 8,
      "outputs": [
        {
          "output_type": "display_data",
          "data": {
            "text/plain": [
              "<Figure size 864x360 with 0 Axes>"
            ]
          },
          "metadata": {}
        },
        {
          "output_type": "display_data",
          "data": {
            "image/png": "[encoded data removed]",
            "text/plain": [
              "<Figure size 576x360 with 1 Axes>"
            ]
          },
          "metadata": {}
        }
      ]
    },
    {
      "cell_type": "markdown",
      "metadata": {
        "id": "JD7a62UjXW7v"
      },
      "source": [
        "5. What information can you get by comparing the two boxplots?\n",
        "\n",
        "On average, there are more cats per household than dogs per household."
      ]
    }
  ]
}